{
 "cells": [
  {
   "cell_type": "code",
   "execution_count": 1,
   "metadata": {},
   "outputs": [],
   "source": [
    "import glob\n",
    "import os\n",
    "import re\n",
    "from nltk.tokenize import word_tokenize\n",
    "from tqdm import tqdm\n",
    "import spacy"
   ]
  },
  {
   "cell_type": "code",
   "execution_count": 2,
   "metadata": {},
   "outputs": [],
   "source": [
    "test = os.path.join(\"plain\", \"36105213330389.txt\")"
   ]
  },
  {
   "cell_type": "code",
   "execution_count": 3,
   "metadata": {},
   "outputs": [],
   "source": [
    "nlp = spacy.load('en_core_web_sm')"
   ]
  },
  {
   "cell_type": "code",
   "execution_count": 33,
   "metadata": {},
   "outputs": [],
   "source": [
    "def strip_names_and_numbers(text):\n",
    "    doc = nlp(text)\n",
    "    tokens = [ent.text for ent in doc.ents if ent.label_ not in [\"PERSON\", \"CARDINAL\"]]\n",
    "    return \" \".join(tokens)"
   ]
  },
  {
   "cell_type": "code",
   "execution_count": 36,
   "metadata": {},
   "outputs": [
    {
     "name": "stdout",
     "output_type": "stream",
     "text": [
      "The White Hat &C. &C. ' v.- ARROWSMITH SERIES BOAT I. Eden Phillpotts THE END OF A LIFE Yol FRENCHMAN SUPERNATURAL THE WHITE HAT Vol Quay Street London Kent & Co. “FLOWERS OF THE hunt Quay Street LONDON Kent & Co. The Vicissitudes of a Hack “Little Fairy” “Got At” the Illustrated, Sporting and Dramatic News THE WHITE HAT HACK LITTLE FAIRY HOUSE GOT THE QUEEN OF THE ARENA THE BLACK SHEEP OF FAMILY GAME a White Hat the moon, one night the following week THE WHITE HAT Cousin the next morning Regent Street THE WHITE HAT ’at first half a minute two minutes Retreat-6 WHITE HAT a couple of minutes Skeffington Downshire Grace WHITE HAT Downshire Downshire next week Duchess Downshire Downshire THE WHITE HAT Downshire Downshire Two days later the “ Goodwood IO Snob Snob Downshire THE WHITE HAT Dukes at least half an hour Two days later some days the Queen’s Hotel about five o’clock the afternoon steps.12 THE WHITE HAT second Downshire THE WHITE HAT nearly eight o’clock Goodwood morning Cousin WHITE HAT ME White Hat U C H my salad days first SWELL 5 years old I20 HACK first Swell HACK England Shropshire the very first day HACK yesterday HACK England eight years old Gloucestershire the Blackmoor Vale England Roman Catholics Swell one day HACK one day termed— HACK first before very many days former days Park Newmarket Heath 172 day afternoon the Cambridgeshire week morrow Swell Newmarket Heath HACK Trinity College Cambridge the following morning quarters HACK second Cambridge THE VICISSITUDES OF A HACK month Tattersall’s Swell HACK many hours Miles’s Farm HACK ” Brown Sugar Jack Robinson”Blowed HACK first one minute stile a hundred miles an hour the holidays HACK Cambridge College Cambridge Proctor HACK England that night HACK morning to night twenty pounds The Royal Belvedere Riding School HACK Tubbeville the Royal Belvidere Riding School My de-ar HACK ’and— the day first Tubbeville Continent Tubbeville Tubbeville the summer season every day HACK the day the month of August ’ang this afternoon terday Swell Swell Saddle The Swell three o’clock Swell HACK first Tubbeville The next day the Royal Belvidere Riding School next week DERBY.poto Sauce DERBY ten minutes City Portman Square half an hour day DERBY Richmond three hundred thousand pounds DERBY Harvey DERBY the same night the next day her first season London one of these days DERBY a good many minutes day Regent Street the morning Derby Hepsom DERBY first Paddick the Grand Stand Jehu Paddock Stand Paddick the Paddock the ‘ succumstances,’ ” Paddock Derby a lovely day Derby recognition.58 a few minutes Paddock a few minutes second second Derby Paddock Paddock.6o DERBŸ seven or eight miles Julius Cæsar many seconds second Sayers DERBY Portman Square a few minutes Captain Forrester room.62 DERBY “ Me some ten minutes later French Derby Derby DERBY every night FAIRY.futlí Jfnirn HY Fairy Fairy the Master Fairy FAIRY Fairy Fairy seven-year-old Hounds some three years doctors’ FAIRY the day first the Wild Farm “ Little Fairy Fairy Fairy that day Fairy Majesty Hussars Fairy Meet FAIRY years Fairy that day Fairy the house an hour afterwards The72 LITTLE FAIRY Five minutes afterwards twenty years Fairy Fairy FAIRY ’ife some day “ Dood-night angels’voices sleeping—- LITTLE FAIRY Fairy didn’t India FAIRY Heath 76 ten years ago the Wild Farm years ago “ Little Fairy the old days Fairy “Miss Fairy Eastern Fairy FAIRY Dollman’s Heath Fairy 172 ber Ten years ago day season the first of November Fifty-five minutes December evening Fairy The Run of the Season FAIRY a penny Fairy just ten years ago Fairy Fairy Fairy Fairy some day Fairy Fairy her;8o LITTLE FAIRY two days afterwards Heard the news about Major Clayton and Miss Fairy A HOUSE IN THE COUNTRY 7% London year years the present year James,’’she HOUSE COUNTRY annual two days old HOUSE COUNTRY Parker” Ramsgate last year the end of June about noon HOUSE COUNTRY City City “ Maids of Honour” Richmond Perrier Jouet HOUSE COUNTRY 87 a couple of months or so this summer Hussars three months Chalkshire Chalkshire June ‘ Dear Sooby two or three months absence.88 England P.S ten miles Captain HOUSE HOUSE COUNTRY Chorlbury Chalkshire Bravo this very night that evening HOUSE COUNTRY Old Manor Christian Ramsgate an hour afterwards HOUSE COUNTRY July 1st CHATTERTON The Old Manor House’ Captain of Monday Monday morning Old Manor House shepherd’s HOUSE COUNTRY Squire,’ the day Guard HOUSE COUNTRY Thankee Form Choribury Form HOUSE COUNTRY second ‘Ah ! that’s exactly what I wanted to know,’ said my friend, with a knowing wink at me Beg HOUSE COUNTRY summun.’ Hibernian can’t,’ HOUSE COUNTRY HOUSE COUNTRY go,’ ten miles HOUSE COUNTRY ITCural July this afternoon Old Manor House Captain Folkestone Boulogne The Old Remedy : Jouet Old Manor House Christmas IOO A HOUSE IN THE COUNTRY two other trifles Captain the day Captain the day HOUSE COUNTRY IOI Captain Captain N.B Buddhist Mormon HOUSE COUNTRY July—.—Vicar Informed next week Captain Vicar ‘ Very kind of you,’ I thought to myself, as I forked out the sum named the VicarA HOUSE COUNTRY I03 Vicar about three feet ten minutes another ten minutes morrow the afternoon the following morning Hate July HOÜSE COUNTRY The Daily Telegraph morning Captain here,’ Irishman a hundred per cent COUNTRY 8 p.m.— HOUSE COUNTRY morrow July—.—It Captain yesterday yesterday morning.’ HOUSE COUNTRY second all day HOUSE COUNTRY eleven all night Marines Marines Confound all day July—.—‘Is raining?’ COUNTRY second every hour 10 p.m IO HOUSE COUNTRY Irish this morning HOUSE COUNTRY to-day Telegraph half-an-hour HOUSE COUNTRY Latin weeks HOUSE COUNTRY First ‘ I s’pose HOUSE COUNTRY ‘ You half the night COUNTRY July Ramsgate Captain Spa Longchalke 12 p.m. Perrier Jouet HOUSE COUNTRY injurious,’ doctor.’ this morning cheerierA HOUSE this very night morrow July this morning ’ “ Head under bedclothes this afternoon seven-and-six HOUSE COUNTRY Telegram Tolladay HOUSE COUNTRY Xit'e July INTEL Old Manor House last evening footsteps120 HOUSE COUNTRY Ya Sudden Captain Varlet COUNTRY first HOUSE COUNTRY Jimmy Irish Little Church Corner premises the “ Pink ’Un ” Sunday morning beenA HOUSE COUNTRY I. Captain Hall Galop Jimmy Galop shouldn’t Koenig his best days howled,124 A HOUSE IN COUNTRY HOUSE COUNTRY Froggies gear.’ Drunk boy,’ Warreryoumean HOUSE COUNTRY Captain 4 a.m.— HOUSE COUNTRY ‘Wake up, Bob! come, wake up!’ London Allri’ allri’ boy,’ Hallo HOUSE COUNTRY first Longchalke last night toA HOUSE COUNTRY 1 Cut Bob,’ vestry.’ “ Bob HOUSE COUNTRY course,’ to-day Us ten minutes ‘Lots of pretty this morning Luffey,’ Vicar HOUSE COUNTRY this morning ‘ Really HOUSE COUNTRY Vicar Richmond the previous Sunday Vicar you,’ evening Jimmy Jimmy Vicar the “ Pink ’Un afternoon HOUSE COUNTRY milk,’ first Castle Syllabub English English English English nonsense!’ HOUSE COUNTRY that day Potheen four hours HOUSE COUNTRY Jimmy Cup accord!’ “ 2 HOUSE COUNTRY Allri’ Dabchicks morning first Chorlbury an hour ago HOUSE COUNTRY eatin’ HOUSE ‘ Well five-and-forty last night D. HOUSE COUNTRY Murphy— half-awake A week ‘ House GOT some years ago morning Horley GOT years a few days 145 nights this particular year North- Derby British two-year-old Doncaster the Criterion at Newmarket winter Un GOT AT Convention Claverhouse Sharpshooter a moment Derby one morning yesterday Myrtle Cottage the summer this lovely morning I49 Trimmer— Baltic the Crimean War about years ago one day dreadfulGOT AT years China Myrtle Cottage GOT AT the week ‘ I s’owed it Bob, ma, an’ he the very next morning Exmoor gallop GOT Claverhouse a week one afternoon Saturday the afternoon Tiny Coates Newmarket every day November last year the Divorce Court ‘ Ah ! know.’GOT AT Saturday yesterday first New 172 Play Actor Claverhouse Claverhouse Newmarket Claverhouse first Derby ten-pound five hundred five hundred pounds last week AT enough,’ Claverhouse ten-pound Claverhouse Joan”—you ten-pound next Monday five hundred pounds Derby Claverhouse 1 59 Cornwall Claverhouse Lawless Claverhouse Derby i81Bî^aeaMw5Ti!GOT AT AT Derby Claverhouse Derby London Claverhouse Myrtle Cottage the following Monday next day one o’clock day you,’ can.’ GOT five minutes afterwards Trimmer first one day Derby Myrtle Cottage first forty thousand pounds Claverhouse Derby Claverhouse every penny THE QUEEN OF THE ARENA.&Ijc just fifteen months ago London third first days THE QUEEN OF THE ARENA London that day Edward Arden Majesty’s Navy England just two years before Mediterranean Headley Court ifTHE QUEEN OF THE ARENA morrow first Irish Moine Irishman THE QUEEN OF THE ARENA all day night Newmarket for the Autumn Meetings first Heath second England THE QUEEN OF THE ARENA nearly three months H.M. Thunderer Edward Arden Naples first Irish Dublin first last week Navy Court one evening every inch THE QUEEN OF THE ARENA years London early one morning Fancy ARENA London morrow London THE QUEEN OF THE ARENA first Edward Arden An hour ago Navy Navy i8o THE QUEEN OF THE ARENA captain— England first ARENA first sightTHE Court mothers’-meet- THE QUEEN OF THE ARENA Miss Arden Headley Court night THE QUEEN OF THE ARENA London Ned toWMi ' Provi 172 Court all night London that quarter first all day morning THE QUEEN OF THE ARENA The very first day last night last week Longfield Park the night before the doubleTHE QUEEN OF THE ARENA Hounds England Longfield first THE QUEEN OF THE ARENA Navy Edward Arden THE QUEEN OF THE ARENA Hunting half-an-hour first last Wednesday THE QUEEN OF THE ARENA Tackley Wood first this season Tackley Middleton Barleyford Crown first THE QUEEN OF THE ARENA second afternoon Captain Ward ARENA about two miles Barleyford child!’ ‘No-o-o,’ just ten minutes seven o’clock THE QUEEN OF THE ARENA Crown Crusader THE QUEEN OF THE ARENA THE QUEEN OF THE ARENA The Queen of the Arena The Queen of the Arena me—- Mahomet Smitherini’s Circus THE QUEEN OE THE ARENA every night nine o’clock Saturdays the afternoon The Queen of the Arena ’ morrow “ Major Brown ! morrow Saturday afternoon that day second morrow morning Grand The Queen of the Arena Edward Arden 202 THE QUEEN OF THE ARENA CHAPTER IV the next morning the previous day morrow Ned London Edward Arden ARENA London Smitherini’s Circus Mademoiselle Natalie the Great Little Merriman Clown ARENA The Queen of the Arena The Red Prince,’ Royalty second THE QUEEN OF THE ARENA Ned The Queen of the Arena THE QUEEN OF THE ARENA second A few minutes later Signor Smitherini Cockney English Star THE QUEEN OF THE ARENA this day week 15210 THE QUEEN OF THE ARENA another six months Three months afterwards Edward Arden May morning THE QUEEN OF THE ARENA Star The Queen of the Arena.”UNCLE HARLES one night to2l6 BEN these years eight—nine-o’clock City Russell Square half-past four—dinner St. George’s Hall St. James’s Hall Us twelve months my Aunt Eliza first Wood Street Richmond Greenwich Kempton Park San-UNCLE first Browser/and Co. Eliza John Street evening right\\and The Nobby ’Un’ as224 night that night the following morning November 10th English ‘The Noble Art of Self-defence.’ Anglo Nature English the last six weeks May BEN next Thursday week some few miles Charles Plausible morning “John Street Berkeley Square November nth Monday evening Sunday BF.N. Love P.S BEN the Monday the evening Vicarage two in the morning five miles The Noble Art of Self-defence Banbury BEN The Noble Art of Shelf Hiccup 172 cup noon UNCLE BEN BEN two days ‘Good-bye the Prize Ring the County one three hundred a year DDY” BROWN- LOW the 30th Hussars Crcesus Windsor Castle a week India Blood Stone yesterday India A NEW WAY TO PAY OLD The day India Doddy India 17242 New Bond Street London August Dear Sir Signa Dear Sir Servants “ Creale & Binman 30th Manilla Indian NEW WAY THE BLACK SHEEP OF FAMILY. Dullchester summer morning first second THE BLACK SHEEP FAMILY THE BLACK SHEEP first Riviera the spring Georgiana Roseleaf Cottage FAMILY ‘ Best love to Georgiana ‘John Hartiboy P.S The Black Sheep of the Family;’ THE BLACK SHEEP the earlier years Thursday morrow a week Georgiana JosephOF FAMILY 2 53 noon some ten miles THE BLACK SHEEP Georgiana five years ago Georgiana Jellicoe else,”OF FAMILY Pump Court Temple London Spadger London THE BLACK SHEEP three weeks or a month H’m FAMILY A day country’d Spadger sisters’ 18258 THE BLACK SHEEP Dullchester the “Black Sheep of the Family” Roseleaf Cottage FAMILY Spadger THE BLACK SHEEP CHAPTER III one morning a day Timmins Honeywood Hall terrible— Dullchester Georgiana FAMILY Georgiana first Dullchester Monday ‘ Dear Georgiana,—When I Roseleaf Cottage first Hotel London Jellicoe arrestOF THE FAMILY the County Hospital Dullchester 172 posely THE BLACK SHEEP ‘Joseph Skinner.’ “ all these years Dullchester Georgiana 172 posely FAMILY first Dullchester Jellicoe July Dear Frank Dullchester went206 THE BLACK SHEEP first a week fifty pounds the Club second the very first day the Club Club Dullchester Jellicoe temporaryOF FAMILY Club one day indeed!’ morrow afternoon Club first THE BLACK SHEEP Cathedral morrow morning British mean,’ ten pounds ‘ I ’11 do nothing of the kind, sir ! ‘ You really won’t ? FAMILY 172 gramme ‘ Have I ? second ‘ Bet you a level fifty you don’t,’ then,’ generally.270 THE BLACK SHEEP Trippit a hundred pounds to morrow morning Trippit eleven Queen Eleanor’s Cross Close Cathedral Museum 172 gramme Jellicoe Middlewick FAMILY Trippit the next morning the Club THE BLACK SHEEP ‘Come on 11s first ‘ Come on a hundred yards THE BLACK SHEEP the Club Dullchester The Dampshire Chronicle Dullchester Advertiser first FAMILY 275 eight miles the seconds 172 night the Hôtel de Paris THE BLACK SHEEP The Black Sheep of the Family ” Dullchester Roseleaf Cottage sisters’ month FAMILY The Black Sheep of the Family” Roseleaf Cottage “ Dear John Jellicoe GAME A TALE OF THE TURF many years Christmas Christmas GAME day The Parish Doctor the last twenty years Messrs Grooby Pluckem Lincoln London a race,284 GAME Parish Workhouse the year one Christmas some years ago London GAME my Christmas holiday only some three miles Christmas night the intervening days Christmas some minutes just about six months ago one evening Woodbine Cottage the Bedminster road,288 GAME some three miles Woodbine Cottage Beechcroft one week’s end Sunday Wood 172 bine GAME this George Beechcroft GAME every day summer day forty years past you.’ ‘Come Forty years ago GAME first getGAME third ‘ w < The Outsider Wins GAME Monday Derby Doncaster Saturday Monday morning the day GAME TO THE LAST Corsair The Jockey Club Government Doncaster five minutes less than a month the St. Leger day York Castle the Jockey Club last day first night that night ‘ “ You've sure it ’II ‘ “ that night GAME a hundred pounds the next morning second doctor,’ afterwards.302 GAME the end of my days BISHOP isl¿crp Bath Bath Bishop Bishop Oxford Cambridge 1 wrap- rascal Prelates —apron Bishop Bishop freely night after night Bishop The Liver Complaint Church Bishop Bishop 309 miles A Field Mar second French Francatelli morning about twelve o’clock the Archbishop of Canterbury first Bishop Roman Cockle’s Pills morrow Beecham Anon “ Syrup “ Py 172 retic Bishop Bishops morning the “Hallelujah Chorus the Archbishop of Canterbury’s Algeria Siberia Queer Street Bishop my salad days Oxford to-night —get every day Bishop Bishop cause.318 Bishop Bishop Bishop the middle of the day Bishop Algiers Bishop English Church Bishop Bishop Eton and Oxford— 22322 Sport University four days Heytlirop Aylesbury day Charley Littledale Bradwell Grove 323 French Aylesbury the day Bishop first first Bishop forefinger,—• Bishop Aylesbury Bishop Bishop London a few days Bishop the following day 2.30 p.m. ’Ope ’ope Stiggles the High Street The Bib-Bib-Bishop’s ° the White Hart the Gugger-Grand National Two minutes afterwards old two days Bishop Bishop some half-an-hour Bishop Bishop a mile sight,— Bishop Prelate Bishop Bishop Bishop Bishop years a week daily Bishop London Bishop Napoleon Fair the very first day That day that morning Palace the same hour Bishop Bishop Bishop Norton Priory Blazer place,”342 Long Wood Hoggesden third Bishop a couple of miles Chop Peartree Farm the Lunnon Road mile Thankee Bishop Bishop Peartree Farm Slush first Bishop some minutes Bishop Bishopric Bishop another minute first Peartree Farm the next minute Bishop Bishop The M.F.H. this morning Forty-five minutes Hawley Grange Bishop to-day this day Bishop sixty years to-day Bishop five- and-forty minutes this day Bishop Bishop many a day afterwards ARROWSMITH 8vo Saturday Arrowsmith winter summer M.P. 5 THE RED CARDINAL 6 THE TINTED VENUS 7 GIFT 13 DEAR LIFE PERIL The Mystery of No Man’s Heath 18 THE GUILTY RIVER THE LOVELY WANG PATTY’S PARTNER A Comedy of Errors THE PARK LANE MYSTERY 25. JAN VERCLOOTZ 28 THE CLIFF MYSTERY 29 AS A BIRD TO THE SNARE 30 TRACKED COUNTER-CHECK 33 VAGABOND PHARAOH’S DAUGHTER TROLLOPE THE DOUBTS OF DIVES WHARF 40 A Tale of Four 44 DEMONIAC OUR BOYS & GIRLS AT SCHOOL MOORS CROMMELIN CONWAY CONWAY DANIEL LANG GREENE COLLINS WARDEN MATTHEWS AUBYN ELIZABETH GLA1STER B.A. COE Quay Street London Kent & Co. ARROWSMITH SERIES Crown 8vo CROMMELIN “ Brown Eyes —Daily News World The Truth about Clement Saturday & Frances Phenomenon Figaro Bookseller San Francisco America,”—Scotsman Novel “Rose and Rue ” “Sidonie, Times Mirror I. Pharaoh’s Daughter & Quay Street London Kent & Co. Limited FAIRY FOURTEEN ILLUSTRATIONS A Fairy Tale a Master of the Craft.”—Glasgow Herald 8vo The Mark of Cain The Gold of Fairnilee ” &c. ILLUSTRATIONS Guinea Hand Mall Gazette Merrily The Life and Adventures Illustrated Linley Sambourne season.”—Saturday the Water wonderment.”—Western Morning News ” Spectator Hilda November Illustrations Quay Street London Kent & Co. LimitedCrown Svo TOURMALIN FARCICAL EXTRAVAGANCE Vice Versa “Voces Popdli ” “Tiie Tinted Vends ” &c. minute volume.”—The Glasgow Herald The Mark of Cain The Gold of Fairnilee ” &c. ILLUSTRATIONS GORDON BROWNE Guinea Herald pen.”—The World priggery.”—Scots Observer Quay Street London Kent & Co. 1/- SENILIA SKETCHES, &c. IVAN English Introduction and Biographical Sketch Herald Review Quay Street London Kent & Co. Limited\n"
     ]
    }
   ],
   "source": [
    "with open(test, 'r') as f:\n",
    "    text = f.read()\n",
    "    de_personed = strip_names_and_numbers(text)\n",
    "    print(de_personed)"
   ]
  },
  {
   "cell_type": "code",
   "execution_count": 26,
   "metadata": {},
   "outputs": [],
   "source": [
    "def lowercase(textlist):\n",
    "    return [word.lower() for word in textlist]"
   ]
  },
  {
   "cell_type": "code",
   "execution_count": 27,
   "metadata": {},
   "outputs": [],
   "source": [
    "def remove_numbers(text):\n",
    "    cleaned = re.sub(r'\\d+', '', text)\n",
    "    return cleaned"
   ]
  },
  {
   "cell_type": "code",
   "execution_count": 28,
   "metadata": {},
   "outputs": [],
   "source": [
    "def remove_non_alpha_nltk(text):\n",
    "    words = word_tokenize(text)\n",
    "    lowered = lowercase(words)\n",
    "    return \" \".join([word for word in lowered if word.isalpha()])"
   ]
  },
  {
   "cell_type": "code",
   "execution_count": 29,
   "metadata": {},
   "outputs": [],
   "source": [
    "def remove_single_letter_words(text):\n",
    "    cleaned = ' '.join([word for word in text.split() if len(word) > 1])\n",
    "    return cleaned"
   ]
  },
  {
   "cell_type": "code",
   "execution_count": 31,
   "metadata": {},
   "outputs": [],
   "source": [
    "def clean_text(text):\n",
    "    de_person_number = strip_names_and_numbers(text)\n",
    "    alpha = remove_non_alpha_nltk(de_person_number)\n",
    "    cleaned = remove_single_letter_words(alpha)\n",
    "    return cleaned"
   ]
  },
  {
   "cell_type": "code",
   "execution_count": 35,
   "metadata": {},
   "outputs": [
    {
     "name": "stdout",
     "output_type": "stream",
     "text": [
      "the white hat arrowsmith series boat eden phillpotts the end of life yol frenchman supernatural the white hat vol quay street london kent flowers of the hunt quay street london kent co the vicissitudes of hack little fairy got at the illustrated sporting and dramatic news the white hat hack little fairy house got the queen of the arena the black sheep of family game white hat the moon one night the following week the white hat cousin the next morning regent street the white hat at first half minute two minutes white hat couple of minutes skeffington downshire grace white hat downshire downshire next week duchess downshire downshire the white hat downshire downshire two days later the goodwood io snob snob downshire the white hat dukes at least half an hour two days later some days the queen hotel about five clock the afternoon the white hat second downshire the white hat nearly eight clock goodwood morning cousin white hat me white hat my salad days first swell years old hack first swell hack england shropshire the very first day hack yesterday hack england eight years old gloucestershire the blackmoor vale england roman catholics swell one day hack one day hack first before very many days former days park newmarket heath day afternoon the cambridgeshire week morrow swell newmarket heath hack trinity college cambridge the following morning quarters hack second cambridge the vicissitudes of hack month tattersall swell hack many hours miles farm hack brown sugar jack robinson blowed hack first one minute stile hundred miles an hour the holidays hack cambridge college cambridge proctor hack england that night hack morning to night twenty pounds the royal belvedere riding school hack tubbeville the royal belvidere riding school my hack the day first tubbeville continent tubbeville tubbeville the summer season every day hack the day the month of august ang this afternoon terday swell swell saddle the swell three clock swell hack first tubbeville the next day the royal belvidere riding school next week sauce derby ten minutes city portman square half an hour day derby richmond three hundred thousand pounds derby harvey derby the same night the next day her first season london one of these days derby good many minutes day regent street the morning derby hepsom derby first paddick the grand stand jehu paddock stand paddick the paddock the succumstances paddock derby lovely day derby few minutes paddock few minutes second second derby paddock derbÿ seven or eight miles julius cæsar many seconds second sayers derby portman square few minutes captain forrester derby me some ten minutes later french derby derby derby every night jfnirn hy fairy fairy the master fairy fairy fairy fairy hounds some three years doctors fairy the day first the wild farm little fairy fairy fairy that day fairy majesty hussars fairy meet fairy years fairy that day fairy the house an hour afterwards little fairy five minutes afterwards twenty years fairy fairy fairy ife some day angels voices little fairy fairy didn india fairy heath ten years ago the wild farm years ago little fairy the old days fairy miss fairy eastern fairy fairy dollman heath fairy ber ten years ago day season the first of november minutes december evening fairy the run of the season fairy penny fairy just ten years ago fairy fairy fairy fairy some day fairy fairy her little fairy two days afterwards heard the news about major clayton and miss fairy house in the country london year years the present year james she house country annual two days old house country parker ramsgate last year the end of june about noon house country city city maids of honour richmond perrier jouet house country couple of months or so this summer hussars three months chalkshire chalkshire june dear sooby two or three months england ten miles captain house house country chorlbury chalkshire bravo this very night that evening house country old manor christian ramsgate an hour afterwards house country july chatterton the old manor house captain of monday monday morning old manor house shepherd house country squire the day guard house country thankee form choribury form house country second ah that exactly what wanted to know said my friend with knowing wink at me beg house country hibernian can house country house country go ten miles house country itcural july this afternoon old manor house captain folkestone boulogne the old remedy jouet old manor house christmas ioo house in the country two other trifles captain the day captain the day house country ioi captain captain buddhist mormon house country informed next week captain vicar very kind of you thought to myself as forked out the sum named the vicara house country vicar about three feet ten minutes another ten minutes morrow the afternoon the following morning hate july hoüse country the daily telegraph morning captain here irishman hundred per cent country house country morrow captain yesterday yesterday house country second all day house country eleven all night marines marines confound all day is raining country second every hour io house country irish this morning house country telegraph house country latin weeks house country first pose house country you half the night country july ramsgate captain spa longchalke perrier jouet house country injurious this morning cheeriera house this very night morrow july this morning head under bedclothes this afternoon house country telegram tolladay house country july intel old manor house last evening house country ya sudden captain varlet country first house country jimmy irish little church corner premises the pink un sunday morning beena house country captain hall galop jimmy galop shouldn koenig his best days house in country house country froggies drunk boy warreryoumean house country captain house country wake up bob come wake up london allri allri boy hallo house country first longchalke last night toa house country cut bob bob house country course us ten minutes lots of pretty this morning luffey vicar house country this morning really house country vicar richmond the previous sunday vicar you evening jimmy jimmy vicar the pink un afternoon house country milk first castle syllabub english english english english nonsense house country that day potheen four hours house country jimmy cup accord house country allri dabchicks morning first chorlbury an hour ago house country eatin house well last night house country week house got some years ago morning horley got years few days nights this particular year derby british doncaster the criterion at newmarket winter un got at convention claverhouse sharpshooter moment derby one morning yesterday myrtle cottage the summer this lovely morning baltic the crimean war about years ago one day dreadfulgot at years china myrtle cottage got at the week owed it bob ma an he the very next morning exmoor gallop got claverhouse week one afternoon saturday the afternoon tiny coates newmarket every day november last year the divorce court ah got at saturday yesterday first new play actor claverhouse claverhouse newmarket claverhouse first derby five hundred five hundred pounds last week at enough claverhouse claverhouse joan next monday five hundred pounds derby claverhouse cornwall claverhouse lawless claverhouse derby got at at derby claverhouse derby london claverhouse myrtle cottage the following monday next day one clock day you got five minutes afterwards trimmer first one day derby myrtle cottage first forty thousand pounds claverhouse derby claverhouse every penny the queen of the ijc just fifteen months ago london third first days the queen of the arena london that day edward arden majesty navy england just two years before mediterranean headley court ifthe queen of the arena morrow first irish moine irishman the queen of the arena all day night newmarket for the autumn meetings first heath second england the queen of the arena nearly three months thunderer edward arden naples first irish dublin first last week navy court one evening every inch the queen of the arena years london early one morning fancy arena london morrow london the queen of the arena first edward arden an hour ago navy navy the queen of the arena england first arena first sightthe court mothers the queen of the arena miss arden headley court night the queen of the arena london ned towmi provi court all night london that quarter first all day morning the queen of the arena the very first day last night last week longfield park the night before the doublethe queen of the arena hounds england longfield first the queen of the arena navy edward arden the queen of the arena hunting first last wednesday the queen of the arena tackley wood first this season tackley middleton barleyford crown first the queen of the arena second afternoon captain ward arena about two miles barleyford child just ten minutes seven clock the queen of the arena crown crusader the queen of the arena the queen of the arena the queen of the arena the queen of the arena mahomet smitherini circus the queen oe the arena every night nine clock saturdays the afternoon the queen of the arena morrow major brown morrow saturday afternoon that day second morrow morning grand the queen of the arena edward arden the queen of the arena chapter iv the next morning the previous day morrow ned london edward arden arena london smitherini circus mademoiselle natalie the great little merriman clown arena the queen of the arena the red prince royalty second the queen of the arena ned the queen of the arena the queen of the arena second few minutes later signor smitherini cockney english star the queen of the arena this day week the queen of the arena another six months three months afterwards edward arden may morning the queen of the arena star the queen of the uncle harles one night ben these years clock city russell square george hall james hall us twelve months my aunt eliza first wood street richmond greenwich kempton park first eliza john street evening the nobby un night that night the following morning november english the noble art of anglo nature english the last six weeks may ben next thursday week some few miles charles plausible morning john street berkeley square november nth monday evening sunday love ben the monday the evening vicarage two in the morning five miles the noble art of banbury ben the noble art of shelf hiccup cup noon uncle ben ben two days the prize ring the county one three hundred year ddy low the hussars crcesus windsor castle week india blood stone yesterday india new way to pay old the day india doddy india new bond street london august dear sir signa dear sir servants creale binman manilla indian new way the black sheep of family dullchester summer morning first second the black sheep family the black sheep first riviera the spring georgiana roseleaf cottage family best love to georgiana john hartiboy the black sheep of the family the black sheep the earlier years thursday morrow week georgiana josephof family noon some ten miles the black sheep georgiana five years ago georgiana jellicoe else of family pump court temple london spadger london the black sheep three weeks or month family day country spadger sisters the black sheep dullchester the black sheep of the family roseleaf cottage family spadger the black sheep chapter iii one morning day timmins honeywood hall dullchester georgiana family georgiana first dullchester monday dear georgiana roseleaf cottage first hotel london jellicoe arrestof the family the county hospital dullchester posely the black sheep joseph all these years dullchester georgiana posely family first dullchester jellicoe july dear frank dullchester the black sheep first week fifty pounds the club second the very first day the club club dullchester jellicoe temporaryof family club one day indeed morrow afternoon club first the black sheep cathedral morrow morning british mean ten pounds do nothing of the kind sir you really won family gramme have second bet you level fifty you don then the black sheep trippit hundred pounds to morrow morning trippit eleven queen eleanor cross close cathedral museum gramme jellicoe middlewick family trippit the next morning the club the black sheep come on first come on hundred yards the black sheep the club dullchester the dampshire chronicle dullchester advertiser first family eight miles the seconds night the hôtel de paris the black sheep the black sheep of the family dullchester roseleaf cottage sisters month family the black sheep of the family roseleaf cottage dear john jellicoe game tale of the turf many years christmas christmas game day the parish doctor the last twenty years messrs grooby pluckem lincoln london game parish workhouse the year one christmas some years ago london game my christmas holiday only some three miles christmas night the intervening days christmas some minutes just about six months ago one evening woodbine cottage the bedminster game some three miles woodbine cottage beechcroft one week end sunday wood bine game this george beechcroft game every day summer day forty years past come forty years ago game first getgame third the outsider wins game monday derby doncaster saturday monday morning the day game to the last corsair the jockey club government doncaster five minutes less than month the leger day york castle the jockey club last day first night that night you sure it ii that night game hundred pounds the next morning second doctor game the end of my days bishop bath bath bishop bishop oxford cambridge rascal prelates bishop bishop freely night after night bishop the liver complaint church bishop bishop miles field mar second french francatelli morning about twelve clock the archbishop of canterbury first bishop roman cockle pills morrow beecham anon syrup py retic bishop bishops morning the hallelujah chorus the archbishop of canterbury algeria siberia queer street bishop my salad days oxford every day bishop bishop bishop bishop bishop the middle of the day bishop algiers bishop english church bishop bishop eton and sport university four days heytlirop aylesbury day charley littledale bradwell grove french aylesbury the day bishop first first bishop forefinger bishop aylesbury bishop bishop london few days bishop the following day ope ope stiggles the high street the the white hart the national two minutes afterwards old two days bishop bishop some bishop bishop mile sight bishop prelate bishop bishop bishop bishop years week daily bishop london bishop napoleon fair the very first day that day that morning palace the same hour bishop bishop bishop norton priory blazer place long wood hoggesden third bishop couple of miles chop peartree farm the lunnon road mile thankee bishop bishop peartree farm slush first bishop some minutes bishop bishopric bishop another minute first peartree farm the next minute bishop bishop the this morning minutes hawley grange bishop this day bishop sixty years bishop minutes this day bishop bishop many day afterwards arrowsmith saturday arrowsmith winter summer the red cardinal the tinted venus gift dear life peril the mystery of no man heath the guilty river the lovely wang patty partner comedy of errors the park lane mystery jan verclootz the cliff mystery as bird to the snare tracked vagabond pharaoh daughter trollope the doubts of dives wharf tale of four demoniac our boys girls at school moors crommelin conway conway daniel lang greene collins warden matthews aubyn elizabeth coe quay street london kent arrowsmith series crown crommelin brown eyes news world the truth about clement saturday frances phenomenon figaro bookseller san francisco america novel rose and rue sidonie times mirror pharaoh daughter quay street london kent limited fairy fourteen illustrations fairy tale master of the herald the mark of cain the gold of fairnilee illustrations guinea hand mall gazette merrily the life and adventures illustrated linley sambourne the water morning news spectator hilda november illustrations quay street london kent limitedcrown svo tourmalin farcical extravagance vice versa voces popdli tiie tinted vends minute glasgow herald the mark of cain the gold of fairnilee illustrations gordon browne guinea herald world observer quay street london kent senilia sketches ivan english introduction and biographical sketch herald review quay street london kent limited\n"
     ]
    }
   ],
   "source": [
    "with open(test, 'r') as f:\n",
    "    text = f.read()\n",
    "    cleaned = clean_text(text)\n",
    "    print(cleaned)"
   ]
  },
  {
   "cell_type": "code",
   "execution_count": 66,
   "metadata": {},
   "outputs": [],
   "source": [
    "# Given a filename, extract just the book id\n",
    "def get_book_id(fn):\n",
    "    return os.path.split(fn)[1].split('_')[0].split('.')[0]"
   ]
  },
  {
   "cell_type": "code",
   "execution_count": 69,
   "metadata": {},
   "outputs": [
    {
     "name": "stderr",
     "output_type": "stream",
     "text": [
      "100%|██████████| 1417/1417 [15:02<00:00,  1.22it/s]\n"
     ]
    }
   ],
   "source": [
    "for fn in tqdm(glob.glob(os.path.join('plain', '*.txt'))):\n",
    "    book_id = get_book_id(fn)\n",
    "    with open(fn, 'r') as f:\n",
    "        with open(os.path.join('tm_texts', book_id + '.txt'), 'w') as g:\n",
    "            text = f.read()\n",
    "            g.write(clean_text(text))"
   ]
  },
  {
   "cell_type": "code",
   "execution_count": null,
   "metadata": {},
   "outputs": [],
   "source": []
  }
 ],
 "metadata": {
  "kernelspec": {
   "display_name": "barth-R",
   "language": "python",
   "name": "barth-r"
  },
  "language_info": {
   "codemirror_mode": {
    "name": "ipython",
    "version": 3
   },
   "file_extension": ".py",
   "mimetype": "text/x-python",
   "name": "python",
   "nbconvert_exporter": "python",
   "pygments_lexer": "ipython3",
   "version": "3.6.1"
  }
 },
 "nbformat": 4,
 "nbformat_minor": 2
}
